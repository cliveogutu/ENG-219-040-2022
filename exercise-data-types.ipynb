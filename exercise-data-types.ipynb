{
 "cells": [
  {
   "cell_type": "markdown",
   "id": "0e39807f",
   "metadata": {
    "papermill": {
     "duration": 0.00657,
     "end_time": "2025-03-02T07:58:29.711452",
     "exception": false,
     "start_time": "2025-03-02T07:58:29.704882",
     "status": "completed"
    },
    "tags": []
   },
   "source": [
    "**This notebook is an exercise in the [Intro to Programming](https://www.kaggle.com/learn/intro-to-programming) course.  You can reference the tutorial at [this link](https://www.kaggle.com/alexisbcook/data-types).**\n",
    "\n",
    "---\n"
   ]
  },
  {
   "cell_type": "markdown",
   "id": "da61aba0",
   "metadata": {
    "papermill": {
     "duration": 0.005093,
     "end_time": "2025-03-02T07:58:29.722143",
     "exception": false,
     "start_time": "2025-03-02T07:58:29.717050",
     "status": "completed"
    },
    "tags": []
   },
   "source": [
    "In the tutorial, you learned about four different data types: floats, integers, strings, and booleans.  In this exercise, you'll experiment with them.\n",
    "\n",
    "# Set up the notebook\n",
    "\n",
    "Run the next code cell without changes to set up the notebook."
   ]
  },
  {
   "cell_type": "code",
   "execution_count": 1,
   "id": "3acc6a02",
   "metadata": {
    "execution": {
     "iopub.execute_input": "2025-03-02T07:58:29.734162Z",
     "iopub.status.busy": "2025-03-02T07:58:29.733687Z",
     "iopub.status.idle": "2025-03-02T07:58:30.843998Z",
     "shell.execute_reply": "2025-03-02T07:58:30.842141Z"
    },
    "papermill": {
     "duration": 1.119257,
     "end_time": "2025-03-02T07:58:30.846692",
     "exception": false,
     "start_time": "2025-03-02T07:58:29.727435",
     "status": "completed"
    },
    "tags": []
   },
   "outputs": [
    {
     "name": "stdout",
     "output_type": "stream",
     "text": [
      "Setup complete.\n"
     ]
    }
   ],
   "source": [
    "# Set up the exercise\n",
    "from learntools.core import binder\n",
    "binder.bind(globals())\n",
    "from learntools.intro_to_programming.ex3 import *\n",
    "print('Setup complete.')"
   ]
  },
  {
   "cell_type": "markdown",
   "id": "fdd34a81",
   "metadata": {
    "papermill": {
     "duration": 0.005358,
     "end_time": "2025-03-02T07:58:30.858337",
     "exception": false,
     "start_time": "2025-03-02T07:58:30.852979",
     "status": "completed"
    },
    "tags": []
   },
   "source": [
    "# Question 1\n",
    "\n",
    "You have seen how to convert a float to an integer with the `int` function.  Try this out yourself by running the code cell below."
   ]
  },
  {
   "cell_type": "code",
   "execution_count": 2,
   "id": "ca320d4b",
   "metadata": {
    "execution": {
     "iopub.execute_input": "2025-03-02T07:58:30.871486Z",
     "iopub.status.busy": "2025-03-02T07:58:30.870838Z",
     "iopub.status.idle": "2025-03-02T07:58:30.876935Z",
     "shell.execute_reply": "2025-03-02T07:58:30.875509Z"
    },
    "papermill": {
     "duration": 0.014998,
     "end_time": "2025-03-02T07:58:30.879061",
     "exception": false,
     "start_time": "2025-03-02T07:58:30.864063",
     "status": "completed"
    },
    "tags": []
   },
   "outputs": [
    {
     "name": "stdout",
     "output_type": "stream",
     "text": [
      "1.0\n",
      "<class 'float'>\n",
      "1\n",
      "<class 'int'>\n"
     ]
    }
   ],
   "source": [
    "# Define a float\n",
    "y = 1.\n",
    "print(y)\n",
    "print(type(y))\n",
    "\n",
    "# Convert float to integer with the int function\n",
    "z = int(y)\n",
    "print(z)\n",
    "print(type(z))"
   ]
  },
  {
   "cell_type": "markdown",
   "id": "d601c759",
   "metadata": {
    "papermill": {
     "duration": 0.005327,
     "end_time": "2025-03-02T07:58:30.890325",
     "exception": false,
     "start_time": "2025-03-02T07:58:30.884998",
     "status": "completed"
    },
    "tags": []
   },
   "source": [
    "In this case, the float you are using has no numbers after the decimal.  \n",
    "- But what happens when you try to convert a float with a fractional part to an integer?  \n",
    "- How does the outcome of the `int` function change for positive and negative numbers?\n",
    "\n",
    "Use the next code cell to investigate and answer these questions.  Feel free to add or remove any lines of code -- it is your workspace!"
   ]
  },
  {
   "cell_type": "code",
   "execution_count": 3,
   "id": "148f8eaa",
   "metadata": {
    "execution": {
     "iopub.execute_input": "2025-03-02T07:58:30.903313Z",
     "iopub.status.busy": "2025-03-02T07:58:30.902868Z",
     "iopub.status.idle": "2025-03-02T07:58:30.909462Z",
     "shell.execute_reply": "2025-03-02T07:58:30.908184Z"
    },
    "papermill": {
     "duration": 0.015479,
     "end_time": "2025-03-02T07:58:30.911692",
     "exception": false,
     "start_time": "2025-03-02T07:58:30.896213",
     "status": "completed"
    },
    "tags": []
   },
   "outputs": [
    {
     "name": "stdout",
     "output_type": "stream",
     "text": [
      "1\n",
      "1\n",
      "-3\n",
      "-2\n"
     ]
    }
   ],
   "source": [
    "# Uncomment and run this code to get started!\n",
    "print(int(1.2321))\n",
    "print(int(1.747))\n",
    "print(int(-3.94535))\n",
    "print(int(-2.19774))"
   ]
  },
  {
   "cell_type": "markdown",
   "id": "2a2dfd11",
   "metadata": {
    "papermill": {
     "duration": 0.00571,
     "end_time": "2025-03-02T07:58:30.923590",
     "exception": false,
     "start_time": "2025-03-02T07:58:30.917880",
     "status": "completed"
    },
    "tags": []
   },
   "source": [
    "Once you have an answer, run the code cell below to see the solution.  Viewing the solution will give you credit for answering the problem."
   ]
  },
  {
   "cell_type": "code",
   "execution_count": 4,
   "id": "aae859e3",
   "metadata": {
    "execution": {
     "iopub.execute_input": "2025-03-02T07:58:30.938347Z",
     "iopub.status.busy": "2025-03-02T07:58:30.937933Z",
     "iopub.status.idle": "2025-03-02T07:58:30.948255Z",
     "shell.execute_reply": "2025-03-02T07:58:30.946740Z"
    },
    "papermill": {
     "duration": 0.019855,
     "end_time": "2025-03-02T07:58:30.950746",
     "exception": false,
     "start_time": "2025-03-02T07:58:30.930891",
     "status": "completed"
    },
    "tags": []
   },
   "outputs": [
    {
     "data": {
      "application/javascript": [
       "parent.postMessage({\"jupyterEvent\": \"custom.exercise_interaction\", \"data\": {\"outcomeType\": 1, \"valueTowardsCompletion\": 0.2, \"interactionType\": 1, \"questionType\": 4, \"questionId\": \"1_FloatToInt\", \"learnToolsVersion\": \"0.3.4\", \"failureMessage\": \"\", \"exceptionClass\": \"\", \"trace\": \"\"}}, \"*\")"
      ],
      "text/plain": [
       "<IPython.core.display.Javascript object>"
      ]
     },
     "metadata": {},
     "output_type": "display_data"
    },
    {
     "data": {
      "text/markdown": [
       "<span style=\"color:#33cc33\">Correct:</span> \n",
       "\n",
       "Negative floats are always rounded UP to the closest integer (for instance, both -1.1 and -1.9 are rounded up to -1). Positive floats are always rounded DOWN to the closest integer (for instance, 2.1 and 2.9 are rounded down to 2)."
      ],
      "text/plain": [
       "Correct: \n",
       "\n",
       "Negative floats are always rounded UP to the closest integer (for instance, both -1.1 and -1.9 are rounded up to -1). Positive floats are always rounded DOWN to the closest integer (for instance, 2.1 and 2.9 are rounded down to 2)."
      ]
     },
     "metadata": {},
     "output_type": "display_data"
    }
   ],
   "source": [
    "# Check your answer (Run this code cell to receive credit!)\n",
    "q1.check()"
   ]
  },
  {
   "cell_type": "markdown",
   "id": "6e8cf306",
   "metadata": {
    "papermill": {
     "duration": 0.005678,
     "end_time": "2025-03-02T07:58:30.962976",
     "exception": false,
     "start_time": "2025-03-02T07:58:30.957298",
     "status": "completed"
    },
    "tags": []
   },
   "source": [
    "# Question 2\n",
    "\n",
    "In the tutorial, you learned about booleans (which can take a value of `True` or `False`), in addition to integers, floats, and strings.  For this question, your goal is to determine what happens when you multiply a boolean by any of these data types.  Specifically, \n",
    "- What happens when you multiply an integer or float by `True`?  What happens when you multiply them by `False`?  How does the answer change if the numbers are positive or negative?\n",
    "- What happens when you multiply a string by `True`?  By `False`?\n",
    "\n",
    "Use the next code cell for your investigation. "
   ]
  },
  {
   "cell_type": "code",
   "execution_count": 5,
   "id": "14102564",
   "metadata": {
    "execution": {
     "iopub.execute_input": "2025-03-02T07:58:30.976610Z",
     "iopub.status.busy": "2025-03-02T07:58:30.976211Z",
     "iopub.status.idle": "2025-03-02T07:58:30.983464Z",
     "shell.execute_reply": "2025-03-02T07:58:30.981718Z"
    },
    "papermill": {
     "duration": 0.01643,
     "end_time": "2025-03-02T07:58:30.985397",
     "exception": false,
     "start_time": "2025-03-02T07:58:30.968967",
     "status": "completed"
    },
    "tags": []
   },
   "outputs": [
    {
     "name": "stdout",
     "output_type": "stream",
     "text": [
      "3\n",
      "-3.1\n",
      "<class 'str'>\n",
      "0\n"
     ]
    }
   ],
   "source": [
    "# Uncomment and run this code to get started!\n",
    "print(3 * True)\n",
    "print(-3.1 * True)\n",
    "print(type(\"abc\" * False))\n",
    "print(len(\"abc\" * False))"
   ]
  },
  {
   "cell_type": "markdown",
   "id": "95e46e79",
   "metadata": {
    "papermill": {
     "duration": 0.005737,
     "end_time": "2025-03-02T07:58:30.997578",
     "exception": false,
     "start_time": "2025-03-02T07:58:30.991841",
     "status": "completed"
    },
    "tags": []
   },
   "source": [
    "Once you have an answer, run the code cell below to see the solution.  Viewing the solution will give you credit for answering the problem."
   ]
  },
  {
   "cell_type": "code",
   "execution_count": 6,
   "id": "58063390",
   "metadata": {
    "execution": {
     "iopub.execute_input": "2025-03-02T07:58:31.011363Z",
     "iopub.status.busy": "2025-03-02T07:58:31.010940Z",
     "iopub.status.idle": "2025-03-02T07:58:31.019458Z",
     "shell.execute_reply": "2025-03-02T07:58:31.018294Z"
    },
    "papermill": {
     "duration": 0.018015,
     "end_time": "2025-03-02T07:58:31.021647",
     "exception": false,
     "start_time": "2025-03-02T07:58:31.003632",
     "status": "completed"
    },
    "tags": []
   },
   "outputs": [
    {
     "data": {
      "application/javascript": [
       "parent.postMessage({\"jupyterEvent\": \"custom.exercise_interaction\", \"data\": {\"outcomeType\": 1, \"valueTowardsCompletion\": 0.2, \"interactionType\": 1, \"questionType\": 4, \"questionId\": \"2_MultiplyBooleans\", \"learnToolsVersion\": \"0.3.4\", \"failureMessage\": \"\", \"exceptionClass\": \"\", \"trace\": \"\"}}, \"*\")"
      ],
      "text/plain": [
       "<IPython.core.display.Javascript object>"
      ]
     },
     "metadata": {},
     "output_type": "display_data"
    },
    {
     "data": {
      "text/markdown": [
       "<span style=\"color:#33cc33\">Correct:</span> \n",
       "\n",
       "When you multiple an integer or float by a boolean with value `True`, it just returns that same integer or float (and is equivalent to multiplying by 1).  If you multiply an integer or float by a boolean with value `False`, it always returns 0.  This is true for both positive and negative numbers.  If you multiply a string by a boolean with value `True`, it just returns that same string.  And if you multiply a string by a boolean with value `False`, it returns an empty string (or a string with length zero)."
      ],
      "text/plain": [
       "Correct: \n",
       "\n",
       "When you multiple an integer or float by a boolean with value `True`, it just returns that same integer or float (and is equivalent to multiplying by 1).  If you multiply an integer or float by a boolean with value `False`, it always returns 0.  This is true for both positive and negative numbers.  If you multiply a string by a boolean with value `True`, it just returns that same string.  And if you multiply a string by a boolean with value `False`, it returns an empty string (or a string with length zero)."
      ]
     },
     "metadata": {},
     "output_type": "display_data"
    }
   ],
   "source": [
    "# Check your answer (Run this code cell to receive credit!)\n",
    "q2.check()"
   ]
  },
  {
   "cell_type": "markdown",
   "id": "d5b15948",
   "metadata": {
    "papermill": {
     "duration": 0.005878,
     "end_time": "2025-03-02T07:58:31.034073",
     "exception": false,
     "start_time": "2025-03-02T07:58:31.028195",
     "status": "completed"
    },
    "tags": []
   },
   "source": [
    "# Question 3\n",
    "\n",
    "In this question, you will build off your work from the previous exercise to write a function that estimates the value of a house.\n",
    "\n",
    "Use the next code cell to create a function `get_expected_cost` that takes as input three variables:\n",
    "- `beds` - number of bedrooms (data type float)\n",
    "- `baths` - number of bathrooms (data type float)\n",
    "- `has_basement` - whether or not the house has a basement (data type boolean)\n",
    "\n",
    "It should return the expected cost of a house with those characteristics. Assume that:\n",
    "- the expected cost for a house with 0 bedrooms and 0 bathrooms, and no basement is 80000, \n",
    "- each bedroom adds 30000 to the expected cost,\n",
    "- each bathroom adds 10000 to the expected cost, and\n",
    "- a basement adds 40000 to the expected cost.\n",
    "\n",
    "For instance,\n",
    "- a house with 1 bedroom, 1 bathroom, and no basement has an expected cost of 80000 + 30000 + 10000 = 120000.  This value will be calculated with `get_expected_cost(1, 1, False)`.\n",
    "- a house with 2 bedrooms, 1 bathroom, and a basement has an expected cost of 80000 + 2*30000 + 10000 + 40000 = 190000.  This value will be calculated with `get_expected_cost(2, 1, True)`.\n",
    "\n",
    "Remember you can always get a hint by uncommenting `q3.hint()` in the code cell following the next!"
   ]
  },
  {
   "cell_type": "code",
   "execution_count": 7,
   "id": "0b115c1f",
   "metadata": {
    "execution": {
     "iopub.execute_input": "2025-03-02T07:58:31.048348Z",
     "iopub.status.busy": "2025-03-02T07:58:31.047885Z",
     "iopub.status.idle": "2025-03-02T07:58:31.057640Z",
     "shell.execute_reply": "2025-03-02T07:58:31.056340Z"
    },
    "papermill": {
     "duration": 0.019507,
     "end_time": "2025-03-02T07:58:31.059797",
     "exception": false,
     "start_time": "2025-03-02T07:58:31.040290",
     "status": "completed"
    },
    "tags": []
   },
   "outputs": [
    {
     "data": {
      "application/javascript": [
       "parent.postMessage({\"jupyterEvent\": \"custom.exercise_interaction\", \"data\": {\"outcomeType\": 1, \"valueTowardsCompletion\": 0.2, \"interactionType\": 1, \"questionType\": 2, \"questionId\": \"3_EstimateHouseValueBool\", \"learnToolsVersion\": \"0.3.4\", \"failureMessage\": \"\", \"exceptionClass\": \"\", \"trace\": \"\"}}, \"*\")"
      ],
      "text/plain": [
       "<IPython.core.display.Javascript object>"
      ]
     },
     "metadata": {},
     "output_type": "display_data"
    },
    {
     "data": {
      "text/markdown": [
       "<span style=\"color:#33cc33\">Correct</span>"
      ],
      "text/plain": [
       "Correct"
      ]
     },
     "metadata": {},
     "output_type": "display_data"
    }
   ],
   "source": [
    "# TODO: Complete the function\n",
    "def get_expected_cost(beds, baths, has_basement):\n",
    "    value = 80000 + 30000 * beds + 10000 * baths + 40000 * has_basement \n",
    "    return value\n",
    "\n",
    "# Check your answer \n",
    "q3.check()"
   ]
  },
  {
   "cell_type": "code",
   "execution_count": 8,
   "id": "b0651615",
   "metadata": {
    "execution": {
     "iopub.execute_input": "2025-03-02T07:58:31.074350Z",
     "iopub.status.busy": "2025-03-02T07:58:31.073887Z",
     "iopub.status.idle": "2025-03-02T07:58:31.079250Z",
     "shell.execute_reply": "2025-03-02T07:58:31.077613Z"
    },
    "papermill": {
     "duration": 0.014901,
     "end_time": "2025-03-02T07:58:31.081306",
     "exception": false,
     "start_time": "2025-03-02T07:58:31.066405",
     "status": "completed"
    },
    "tags": []
   },
   "outputs": [],
   "source": [
    "# Uncomment to see a hint\n",
    "#q3.hint()\n",
    "\n",
    "# Uncomment to view the solution\n",
    "#q3.solution()"
   ]
  },
  {
   "cell_type": "markdown",
   "id": "de5a8018",
   "metadata": {
    "papermill": {
     "duration": 0.006508,
     "end_time": "2025-03-02T07:58:31.094436",
     "exception": false,
     "start_time": "2025-03-02T07:58:31.087928",
     "status": "completed"
    },
    "tags": []
   },
   "source": [
    "# Question 4\n",
    "\n",
    "We'll continue our study of boolean arithmetic.  For this question, your task is to provide a description of what happpens when you add booleans. \n",
    "\n",
    "Use the next code cell for your investigation.  Feel free to add or remove any lines of code - use it as your workspace!"
   ]
  },
  {
   "cell_type": "code",
   "execution_count": 9,
   "id": "475f0b6d",
   "metadata": {
    "execution": {
     "iopub.execute_input": "2025-03-02T07:58:31.108747Z",
     "iopub.status.busy": "2025-03-02T07:58:31.108290Z",
     "iopub.status.idle": "2025-03-02T07:58:31.116495Z",
     "shell.execute_reply": "2025-03-02T07:58:31.114927Z"
    },
    "papermill": {
     "duration": 0.01777,
     "end_time": "2025-03-02T07:58:31.118476",
     "exception": false,
     "start_time": "2025-03-02T07:58:31.100706",
     "status": "completed"
    },
    "tags": []
   },
   "outputs": [
    {
     "name": "stdout",
     "output_type": "stream",
     "text": [
      "0\n",
      "1\n",
      "1\n",
      "2\n",
      "3\n"
     ]
    }
   ],
   "source": [
    "print(False + False)\n",
    "print(True + False)\n",
    "print(False + True)\n",
    "print(True + True)\n",
    "print(False + True + True + True)"
   ]
  },
  {
   "cell_type": "markdown",
   "id": "8b688907",
   "metadata": {
    "papermill": {
     "duration": 0.006194,
     "end_time": "2025-03-02T07:58:31.131501",
     "exception": false,
     "start_time": "2025-03-02T07:58:31.125307",
     "status": "completed"
    },
    "tags": []
   },
   "source": [
    "Once you have an answer, run the code cell below to see the solution.  Viewing the solution will give you credit for answering the problem."
   ]
  },
  {
   "cell_type": "code",
   "execution_count": 10,
   "id": "be41bf77",
   "metadata": {
    "execution": {
     "iopub.execute_input": "2025-03-02T07:58:31.146642Z",
     "iopub.status.busy": "2025-03-02T07:58:31.146188Z",
     "iopub.status.idle": "2025-03-02T07:58:31.155608Z",
     "shell.execute_reply": "2025-03-02T07:58:31.154166Z"
    },
    "papermill": {
     "duration": 0.019426,
     "end_time": "2025-03-02T07:58:31.157968",
     "exception": false,
     "start_time": "2025-03-02T07:58:31.138542",
     "status": "completed"
    },
    "tags": []
   },
   "outputs": [
    {
     "data": {
      "application/javascript": [
       "parent.postMessage({\"jupyterEvent\": \"custom.exercise_interaction\", \"data\": {\"outcomeType\": 1, \"valueTowardsCompletion\": 0.2, \"interactionType\": 1, \"questionType\": 4, \"questionId\": \"4_AddingBooleans\", \"learnToolsVersion\": \"0.3.4\", \"failureMessage\": \"\", \"exceptionClass\": \"\", \"trace\": \"\"}}, \"*\")"
      ],
      "text/plain": [
       "<IPython.core.display.Javascript object>"
      ]
     },
     "metadata": {},
     "output_type": "display_data"
    },
    {
     "data": {
      "text/markdown": [
       "<span style=\"color:#33cc33\">Correct:</span> \n",
       "\n",
       "When you add booleans, adding `False` is equivalent to adding 0, and adding `True` is equivalent to adding 1."
      ],
      "text/plain": [
       "Correct: \n",
       "\n",
       "When you add booleans, adding `False` is equivalent to adding 0, and adding `True` is equivalent to adding 1."
      ]
     },
     "metadata": {},
     "output_type": "display_data"
    }
   ],
   "source": [
    "# Check your answer (Run this code cell to receive credit!)\n",
    "q4.check()"
   ]
  },
  {
   "cell_type": "markdown",
   "id": "57669964",
   "metadata": {
    "papermill": {
     "duration": 0.006648,
     "end_time": "2025-03-02T07:58:31.171605",
     "exception": false,
     "start_time": "2025-03-02T07:58:31.164957",
     "status": "completed"
    },
    "tags": []
   },
   "source": [
    "# 🌶️ Question 5\n",
    "\n",
    "You own an online shop where you sell rings with custom engravings.  You offer both gold plated and solid gold rings.\n",
    "- Gold plated rings have a base cost of \\\\$50, and you charge \\\\$7 per engraved unit.  \n",
    "- Solid gold rings have a base cost of \\\\$100, and you charge \\\\$10 per engraved unit.\n",
    "- Spaces and punctuation are counted as engraved units.\n",
    "\n",
    "Write a function `cost_of_project()` that takes two arguments:\n",
    "- `engraving` - a Python string with the text of the engraving\n",
    "- `solid_gold` - a Boolean that indicates whether the ring is solid gold\n",
    "\n",
    "It should return the cost of the project.  This question should be fairly challenging, and you may need a hint."
   ]
  },
  {
   "cell_type": "code",
   "execution_count": 11,
   "id": "ca2c90e5",
   "metadata": {
    "execution": {
     "iopub.execute_input": "2025-03-02T07:58:31.186464Z",
     "iopub.status.busy": "2025-03-02T07:58:31.186032Z",
     "iopub.status.idle": "2025-03-02T07:58:31.196282Z",
     "shell.execute_reply": "2025-03-02T07:58:31.194361Z"
    },
    "papermill": {
     "duration": 0.020239,
     "end_time": "2025-03-02T07:58:31.198492",
     "exception": false,
     "start_time": "2025-03-02T07:58:31.178253",
     "status": "completed"
    },
    "tags": []
   },
   "outputs": [
    {
     "data": {
      "application/javascript": [
       "parent.postMessage({\"jupyterEvent\": \"custom.exercise_interaction\", \"data\": {\"outcomeType\": 1, \"valueTowardsCompletion\": 0.2, \"interactionType\": 1, \"questionType\": 2, \"questionId\": \"5_CustomEngravings\", \"learnToolsVersion\": \"0.3.4\", \"failureMessage\": \"\", \"exceptionClass\": \"\", \"trace\": \"\"}}, \"*\")"
      ],
      "text/plain": [
       "<IPython.core.display.Javascript object>"
      ]
     },
     "metadata": {},
     "output_type": "display_data"
    },
    {
     "data": {
      "text/markdown": [
       "<span style=\"color:#33cc33\">Correct</span>"
      ],
      "text/plain": [
       "Correct"
      ]
     },
     "metadata": {},
     "output_type": "display_data"
    }
   ],
   "source": [
    "def cost_of_project(engraving, solid_gold):\n",
    "    cost = solid_gold * (100 + 10 * len(engraving)) + (not solid_gold) * (50 + 7 * len(engraving))\n",
    "    return cost\n",
    "\n",
    "# Check your answer\n",
    "q5.check()"
   ]
  },
  {
   "cell_type": "code",
   "execution_count": 12,
   "id": "00ff2ce3",
   "metadata": {
    "execution": {
     "iopub.execute_input": "2025-03-02T07:58:31.214686Z",
     "iopub.status.busy": "2025-03-02T07:58:31.214286Z",
     "iopub.status.idle": "2025-03-02T07:58:31.218713Z",
     "shell.execute_reply": "2025-03-02T07:58:31.217324Z"
    },
    "papermill": {
     "duration": 0.015083,
     "end_time": "2025-03-02T07:58:31.221018",
     "exception": false,
     "start_time": "2025-03-02T07:58:31.205935",
     "status": "completed"
    },
    "tags": []
   },
   "outputs": [],
   "source": [
    "# Uncomment to see a hint\n",
    "#q5.hint()\n",
    "\n",
    "#q5.solution()"
   ]
  },
  {
   "cell_type": "markdown",
   "id": "fd7d6d94",
   "metadata": {
    "papermill": {
     "duration": 0.007568,
     "end_time": "2025-03-02T07:58:31.236140",
     "exception": false,
     "start_time": "2025-03-02T07:58:31.228572",
     "status": "completed"
    },
    "tags": []
   },
   "source": [
    "Run the next code cell to calculate the cost of engraving `Charlie+Denver` on a solid gold ring."
   ]
  },
  {
   "cell_type": "code",
   "execution_count": 13,
   "id": "a6984100",
   "metadata": {
    "execution": {
     "iopub.execute_input": "2025-03-02T07:58:31.252027Z",
     "iopub.status.busy": "2025-03-02T07:58:31.251628Z",
     "iopub.status.idle": "2025-03-02T07:58:31.257839Z",
     "shell.execute_reply": "2025-03-02T07:58:31.256206Z"
    },
    "papermill": {
     "duration": 0.016689,
     "end_time": "2025-03-02T07:58:31.259994",
     "exception": false,
     "start_time": "2025-03-02T07:58:31.243305",
     "status": "completed"
    },
    "tags": []
   },
   "outputs": [
    {
     "name": "stdout",
     "output_type": "stream",
     "text": [
      "240\n"
     ]
    }
   ],
   "source": [
    "project_one = cost_of_project(\"Charlie+Denver\", True)\n",
    "print(project_one)"
   ]
  },
  {
   "cell_type": "markdown",
   "id": "93525da0",
   "metadata": {
    "papermill": {
     "duration": 0.006537,
     "end_time": "2025-03-02T07:58:31.273767",
     "exception": false,
     "start_time": "2025-03-02T07:58:31.267230",
     "status": "completed"
    },
    "tags": []
   },
   "source": [
    "Use the next code cell to calculate the cost of engraving `08/10/2000` on a gold plated ring."
   ]
  },
  {
   "cell_type": "code",
   "execution_count": 14,
   "id": "e47c1bfc",
   "metadata": {
    "execution": {
     "iopub.execute_input": "2025-03-02T07:58:31.290619Z",
     "iopub.status.busy": "2025-03-02T07:58:31.290216Z",
     "iopub.status.idle": "2025-03-02T07:58:31.296431Z",
     "shell.execute_reply": "2025-03-02T07:58:31.294956Z"
    },
    "papermill": {
     "duration": 0.016978,
     "end_time": "2025-03-02T07:58:31.298493",
     "exception": false,
     "start_time": "2025-03-02T07:58:31.281515",
     "status": "completed"
    },
    "tags": []
   },
   "outputs": [
    {
     "name": "stdout",
     "output_type": "stream",
     "text": [
      "120\n"
     ]
    }
   ],
   "source": [
    "project_two = cost_of_project(\"08/10/2000\", False)\n",
    "print(project_two)"
   ]
  },
  {
   "cell_type": "markdown",
   "id": "59445a78",
   "metadata": {
    "papermill": {
     "duration": 0.006587,
     "end_time": "2025-03-02T07:58:31.311942",
     "exception": false,
     "start_time": "2025-03-02T07:58:31.305355",
     "status": "completed"
    },
    "tags": []
   },
   "source": [
    "# Keep going\n",
    "\n",
    "Continue to the next lesson to **[learn about conditions and conditional statements](https://www.kaggle.com/alexisbcook/conditions-and-conditional-statements)**."
   ]
  },
  {
   "cell_type": "markdown",
   "id": "d034a759",
   "metadata": {
    "papermill": {
     "duration": 0.006525,
     "end_time": "2025-03-02T07:58:31.325657",
     "exception": false,
     "start_time": "2025-03-02T07:58:31.319132",
     "status": "completed"
    },
    "tags": []
   },
   "source": [
    "---\n",
    "\n",
    "\n",
    "\n",
    "\n",
    "*Have questions or comments? Visit the [course discussion forum](https://www.kaggle.com/learn/intro-to-programming/discussion) to chat with other learners.*"
   ]
  }
 ],
 "metadata": {
  "kaggle": {
   "accelerator": "none",
   "dataSources": [],
   "isGpuEnabled": false,
   "isInternetEnabled": false,
   "language": "python",
   "sourceType": "notebook"
  },
  "kernelspec": {
   "display_name": "Python 3",
   "language": "python",
   "name": "python3"
  },
  "language_info": {
   "codemirror_mode": {
    "name": "ipython",
    "version": 3
   },
   "file_extension": ".py",
   "mimetype": "text/x-python",
   "name": "python",
   "nbconvert_exporter": "python",
   "pygments_lexer": "ipython3",
   "version": "3.10.12"
  },
  "papermill": {
   "default_parameters": {},
   "duration": 5.437038,
   "end_time": "2025-03-02T07:58:32.155170",
   "environment_variables": {},
   "exception": null,
   "input_path": "__notebook__.ipynb",
   "output_path": "__notebook__.ipynb",
   "parameters": {},
   "start_time": "2025-03-02T07:58:26.718132",
   "version": "2.3.3"
  }
 },
 "nbformat": 4,
 "nbformat_minor": 5
}
