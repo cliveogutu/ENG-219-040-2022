{
 "cells": [
  {
   "cell_type": "markdown",
   "id": "b881fea6",
   "metadata": {
    "papermill": {
     "duration": 0.005477,
     "end_time": "2025-03-02T07:53:36.585404",
     "exception": false,
     "start_time": "2025-03-02T07:53:36.579927",
     "status": "completed"
    },
    "tags": []
   },
   "source": [
    "**This notebook is an exercise in the [Intro to Programming](https://www.kaggle.com/learn/intro-to-programming) course.  You can reference the tutorial at [this link](https://www.kaggle.com/alexisbcook/functions).**\n",
    "\n",
    "---\n"
   ]
  },
  {
   "cell_type": "markdown",
   "id": "a9427954",
   "metadata": {
    "papermill": {
     "duration": 0.004538,
     "end_time": "2025-03-02T07:53:36.594925",
     "exception": false,
     "start_time": "2025-03-02T07:53:36.590387",
     "status": "completed"
    },
    "tags": []
   },
   "source": [
    "In the tutorial, you learned about functions. In this exercise, you'll write some of your own!\n",
    "\n",
    "# Set up the notebook\n",
    "\n",
    "Run the next code cell without changes to set up the notebook."
   ]
  },
  {
   "cell_type": "code",
   "execution_count": 1,
   "id": "c380261b",
   "metadata": {
    "execution": {
     "iopub.execute_input": "2025-03-02T07:53:36.605714Z",
     "iopub.status.busy": "2025-03-02T07:53:36.605298Z",
     "iopub.status.idle": "2025-03-02T07:53:37.521180Z",
     "shell.execute_reply": "2025-03-02T07:53:37.519894Z"
    },
    "papermill": {
     "duration": 0.92355,
     "end_time": "2025-03-02T07:53:37.523153",
     "exception": false,
     "start_time": "2025-03-02T07:53:36.599603",
     "status": "completed"
    },
    "tags": []
   },
   "outputs": [
    {
     "name": "stdout",
     "output_type": "stream",
     "text": [
      "Setup complete.\n"
     ]
    }
   ],
   "source": [
    "# Set up the exercise\n",
    "import math\n",
    "from learntools.core import binder\n",
    "binder.bind(globals())\n",
    "from learntools.intro_to_programming.ex2 import *\n",
    "print('Setup complete.')"
   ]
  },
  {
   "cell_type": "markdown",
   "id": "8f0403d9",
   "metadata": {
    "papermill": {
     "duration": 0.004751,
     "end_time": "2025-03-02T07:53:37.533190",
     "exception": false,
     "start_time": "2025-03-02T07:53:37.528439",
     "status": "completed"
    },
    "tags": []
   },
   "source": [
    "# Question 1\n",
    "\n",
    "In the [House Prices - Advanced Regression Techniques competition](https://www.kaggle.com/c/house-prices-advanced-regression-techniques/overview), you need to use information like the number of bedrooms and bathrooms to predict the price of a house.  Inspired by this competition, you'll write your own function to do this.\n",
    "\n",
    "In the next code cell, create a function `get_expected_cost()` that has two arguments:\n",
    "- `beds` - number of bedrooms \n",
    "- `baths` - number of bathrooms\n",
    "\n",
    "It should return the expected cost of a house with that number of bedrooms and bathrooms.  Assume that:\n",
    "- the expected cost for a house with 0 bedrooms and 0 bathrooms is `80000`.  \n",
    "- each bedroom adds `30000` to the expected cost\n",
    "- each bathroom adds `10000` to the expected cost.\n",
    "\n",
    "For instance, \n",
    "- a house with 1 bedroom and 1 bathroom has an expected cost of `120000`, and \n",
    "- a house with 2 bedrooms and 1 bathroom has an expected cost of `150000`."
   ]
  },
  {
   "cell_type": "code",
   "execution_count": 2,
   "id": "4a373603",
   "metadata": {
    "execution": {
     "iopub.execute_input": "2025-03-02T07:53:37.545054Z",
     "iopub.status.busy": "2025-03-02T07:53:37.544480Z",
     "iopub.status.idle": "2025-03-02T07:53:37.553858Z",
     "shell.execute_reply": "2025-03-02T07:53:37.552928Z"
    },
    "papermill": {
     "duration": 0.017297,
     "end_time": "2025-03-02T07:53:37.555446",
     "exception": false,
     "start_time": "2025-03-02T07:53:37.538149",
     "status": "completed"
    },
    "tags": []
   },
   "outputs": [
    {
     "data": {
      "application/javascript": [
       "parent.postMessage({\"jupyterEvent\": \"custom.exercise_interaction\", \"data\": {\"outcomeType\": 1, \"valueTowardsCompletion\": 0.2, \"interactionType\": 1, \"questionType\": 2, \"questionId\": \"1_GetExpectedCost\", \"learnToolsVersion\": \"0.3.4\", \"failureMessage\": \"\", \"exceptionClass\": \"\", \"trace\": \"\"}}, \"*\")"
      ],
      "text/plain": [
       "<IPython.core.display.Javascript object>"
      ]
     },
     "metadata": {},
     "output_type": "display_data"
    },
    {
     "data": {
      "text/markdown": [
       "<span style=\"color:#33cc33\">Correct</span>"
      ],
      "text/plain": [
       "Correct"
      ]
     },
     "metadata": {},
     "output_type": "display_data"
    }
   ],
   "source": [
    "# TODO: Complete the function\n",
    "def get_expected_cost(beds, baths):\n",
    "    value = 80000 + 30000 * beds + 10000 * baths \n",
    "    return value\n",
    "\n",
    "# Check your answer \n",
    "q1.check()"
   ]
  },
  {
   "cell_type": "code",
   "execution_count": 3,
   "id": "c0296465",
   "metadata": {
    "execution": {
     "iopub.execute_input": "2025-03-02T07:53:37.567021Z",
     "iopub.status.busy": "2025-03-02T07:53:37.566681Z",
     "iopub.status.idle": "2025-03-02T07:53:37.570636Z",
     "shell.execute_reply": "2025-03-02T07:53:37.569513Z"
    },
    "papermill": {
     "duration": 0.011585,
     "end_time": "2025-03-02T07:53:37.572294",
     "exception": false,
     "start_time": "2025-03-02T07:53:37.560709",
     "status": "completed"
    },
    "tags": []
   },
   "outputs": [],
   "source": [
    "# Uncomment to see a hint\n",
    "#q1.hint()\n",
    "\n",
    "# Uncomment to view the solution\n",
    "#q1.solution()"
   ]
  },
  {
   "cell_type": "markdown",
   "id": "508eff83",
   "metadata": {
    "papermill": {
     "duration": 0.004847,
     "end_time": "2025-03-02T07:53:37.582636",
     "exception": false,
     "start_time": "2025-03-02T07:53:37.577789",
     "status": "completed"
    },
    "tags": []
   },
   "source": [
    "# Question 2\n",
    "\n",
    "You are thinking about buying a home and want to get an idea of how much you will spend, based on the number of bedrooms and bathrooms.  You are trying to decide between four different options:\n",
    "- Option 1: house with two bedrooms and three bathrooms\n",
    "- Option 2: house with three bedrooms and two bathrooms\n",
    "- Option 3: house with three bedrooms and three bathrooms\n",
    "- Option 4: house with three bedrooms and four bathrooms\n",
    "\n",
    "Use the `get_expected_cost()` function you defined in question 1 to set `option_1`, `option_2`, `option_3`, and `option_4` to the expected cost of each option."
   ]
  },
  {
   "cell_type": "code",
   "execution_count": 4,
   "id": "c001413b",
   "metadata": {
    "execution": {
     "iopub.execute_input": "2025-03-02T07:53:37.594169Z",
     "iopub.status.busy": "2025-03-02T07:53:37.593842Z",
     "iopub.status.idle": "2025-03-02T07:53:37.603317Z",
     "shell.execute_reply": "2025-03-02T07:53:37.602302Z"
    },
    "papermill": {
     "duration": 0.017187,
     "end_time": "2025-03-02T07:53:37.604904",
     "exception": false,
     "start_time": "2025-03-02T07:53:37.587717",
     "status": "completed"
    },
    "tags": []
   },
   "outputs": [
    {
     "name": "stdout",
     "output_type": "stream",
     "text": [
      "170000\n",
      "190000\n",
      "200000\n",
      "210000\n"
     ]
    },
    {
     "data": {
      "application/javascript": [
       "parent.postMessage({\"jupyterEvent\": \"custom.exercise_interaction\", \"data\": {\"outcomeType\": 1, \"valueTowardsCompletion\": 0.2, \"interactionType\": 1, \"questionType\": 1, \"questionId\": \"2_RunGetExpectedCost\", \"learnToolsVersion\": \"0.3.4\", \"failureMessage\": \"\", \"exceptionClass\": \"\", \"trace\": \"\"}}, \"*\")"
      ],
      "text/plain": [
       "<IPython.core.display.Javascript object>"
      ]
     },
     "metadata": {},
     "output_type": "display_data"
    },
    {
     "data": {
      "text/markdown": [
       "<span style=\"color:#33cc33\">Correct</span>"
      ],
      "text/plain": [
       "Correct"
      ]
     },
     "metadata": {},
     "output_type": "display_data"
    }
   ],
   "source": [
    "# TODO: Use the get_expected_cost function to fill in each value\n",
    "option_one = get_expected_cost(2, 3)\n",
    "option_two = get_expected_cost(3, 2)\n",
    "option_three = get_expected_cost(3, 3)\n",
    "option_four = get_expected_cost(3, 4)\n",
    "\n",
    "print(option_one)\n",
    "print(option_two)\n",
    "print(option_three)\n",
    "print(option_four)\n",
    "\n",
    "# Check your answer\n",
    "q2.check()"
   ]
  },
  {
   "cell_type": "code",
   "execution_count": 5,
   "id": "ef7ed048",
   "metadata": {
    "execution": {
     "iopub.execute_input": "2025-03-02T07:53:37.617767Z",
     "iopub.status.busy": "2025-03-02T07:53:37.617393Z",
     "iopub.status.idle": "2025-03-02T07:53:37.621220Z",
     "shell.execute_reply": "2025-03-02T07:53:37.620140Z"
    },
    "papermill": {
     "duration": 0.012356,
     "end_time": "2025-03-02T07:53:37.622976",
     "exception": false,
     "start_time": "2025-03-02T07:53:37.610620",
     "status": "completed"
    },
    "tags": []
   },
   "outputs": [],
   "source": [
    "# Uncomment to see a hint\n",
    "#q2.hint()\n",
    "\n",
    "# Uncomment to view the solution\n",
    "#q2.solution()"
   ]
  },
  {
   "cell_type": "markdown",
   "id": "adb42524",
   "metadata": {
    "papermill": {
     "duration": 0.005261,
     "end_time": "2025-03-02T07:53:37.634084",
     "exception": false,
     "start_time": "2025-03-02T07:53:37.628823",
     "status": "completed"
    },
    "tags": []
   },
   "source": [
    "# Question 3\n",
    "\n",
    "You're a home decorator, and you'd like to use Python to streamline some of your work.  Specifically, you're creating a tool that you intend to use to calculate the cost of painting a room.\n",
    "\n",
    "As a first step, define a function `get_cost()` that takes as input:\n",
    "- `sqft_walls` = total square feet of walls to be painted\n",
    "- `sqft_ceiling` = square feet of ceiling to be painted\n",
    "- `sqft_per_gallon` = number of square feet that you can cover with one gallon of paint\n",
    "- `cost_per_gallon` = cost (in dollars) of one gallon of paint\n",
    "\n",
    "It should return the cost (in dollars) of putting one coat of paint on all walls and the ceiling.  Assume you can buy the exact amount of paint that you need, so you can buy partial gallons (e.g., if you need 7.523 gallons, you can buy that exact amount, instead of needing to buy 8 gallons and waste some paint).  Do not round your answer."
   ]
  },
  {
   "cell_type": "code",
   "execution_count": 6,
   "id": "7b35ec58",
   "metadata": {
    "execution": {
     "iopub.execute_input": "2025-03-02T07:53:37.646345Z",
     "iopub.status.busy": "2025-03-02T07:53:37.646024Z",
     "iopub.status.idle": "2025-03-02T07:53:37.653831Z",
     "shell.execute_reply": "2025-03-02T07:53:37.652669Z"
    },
    "papermill": {
     "duration": 0.015849,
     "end_time": "2025-03-02T07:53:37.655422",
     "exception": false,
     "start_time": "2025-03-02T07:53:37.639573",
     "status": "completed"
    },
    "tags": []
   },
   "outputs": [
    {
     "data": {
      "application/javascript": [
       "parent.postMessage({\"jupyterEvent\": \"custom.exercise_interaction\", \"data\": {\"outcomeType\": 1, \"valueTowardsCompletion\": 0.2, \"interactionType\": 1, \"questionType\": 2, \"questionId\": \"3_GetCostPaint\", \"learnToolsVersion\": \"0.3.4\", \"failureMessage\": \"\", \"exceptionClass\": \"\", \"trace\": \"\"}}, \"*\")"
      ],
      "text/plain": [
       "<IPython.core.display.Javascript object>"
      ]
     },
     "metadata": {},
     "output_type": "display_data"
    },
    {
     "data": {
      "text/markdown": [
       "<span style=\"color:#33cc33\">Correct</span>"
      ],
      "text/plain": [
       "Correct"
      ]
     },
     "metadata": {},
     "output_type": "display_data"
    }
   ],
   "source": [
    "# TODO: Finish defining the function\n",
    "def  get_cost(sqft_walls, sqft_ceiling, sqft_per_gallon, cost_per_gallon):\n",
    "    total_sqft = sqft_walls + sqft_ceiling\n",
    "    gallons_needed = total_sqft / sqft_per_gallon\n",
    "    cost = cost_per_gallon * gallons_needed \n",
    "    return cost\n",
    "\n",
    "# Check your answer\n",
    "q3.check()"
   ]
  },
  {
   "cell_type": "code",
   "execution_count": 7,
   "id": "69ac3da7",
   "metadata": {
    "execution": {
     "iopub.execute_input": "2025-03-02T07:53:37.668149Z",
     "iopub.status.busy": "2025-03-02T07:53:37.667815Z",
     "iopub.status.idle": "2025-03-02T07:53:37.671366Z",
     "shell.execute_reply": "2025-03-02T07:53:37.670495Z"
    },
    "papermill": {
     "duration": 0.011755,
     "end_time": "2025-03-02T07:53:37.673019",
     "exception": false,
     "start_time": "2025-03-02T07:53:37.661264",
     "status": "completed"
    },
    "tags": []
   },
   "outputs": [],
   "source": [
    "# Uncomment to see a hint\n",
    "#q3.hint()\n",
    "\n",
    "# Uncomment to view the solution\n",
    "#q3.solution()"
   ]
  },
  {
   "cell_type": "markdown",
   "id": "5a3cd52e",
   "metadata": {
    "papermill": {
     "duration": 0.005476,
     "end_time": "2025-03-02T07:53:37.684244",
     "exception": false,
     "start_time": "2025-03-02T07:53:37.678768",
     "status": "completed"
    },
    "tags": []
   },
   "source": [
    "# Question 4\n",
    "\n",
    "Use the `get_cost()` function you defined in Question 3 to calculate the cost of applying one coat of paint to a room with:\n",
    "- 432 square feet of walls, and\n",
    "- 144 square feet of ceiling.\n",
    "\n",
    "Assume that one gallon of paint covers 400 square feet and costs $15.  As in Question 3, assume you can buy partial gallons of paint.  Do not round your answer."
   ]
  },
  {
   "cell_type": "code",
   "execution_count": 8,
   "id": "b9f5b74a",
   "metadata": {
    "execution": {
     "iopub.execute_input": "2025-03-02T07:53:37.696997Z",
     "iopub.status.busy": "2025-03-02T07:53:37.696613Z",
     "iopub.status.idle": "2025-03-02T07:53:37.704758Z",
     "shell.execute_reply": "2025-03-02T07:53:37.703652Z"
    },
    "papermill": {
     "duration": 0.016682,
     "end_time": "2025-03-02T07:53:37.706645",
     "exception": false,
     "start_time": "2025-03-02T07:53:37.689963",
     "status": "completed"
    },
    "tags": []
   },
   "outputs": [
    {
     "data": {
      "application/javascript": [
       "parent.postMessage({\"jupyterEvent\": \"custom.exercise_interaction\", \"data\": {\"outcomeType\": 1, \"valueTowardsCompletion\": 0.2, \"interactionType\": 1, \"questionType\": 1, \"questionId\": \"4_GetCostPaintExample\", \"learnToolsVersion\": \"0.3.4\", \"failureMessage\": \"\", \"exceptionClass\": \"\", \"trace\": \"\"}}, \"*\")"
      ],
      "text/plain": [
       "<IPython.core.display.Javascript object>"
      ]
     },
     "metadata": {},
     "output_type": "display_data"
    },
    {
     "data": {
      "text/markdown": [
       "<span style=\"color:#33cc33\">Correct</span>"
      ],
      "text/plain": [
       "Correct"
      ]
     },
     "metadata": {},
     "output_type": "display_data"
    }
   ],
   "source": [
    "# TODO: Set the project_cost variable to the cost of the project\n",
    "project_cost = get_cost(432, 144, 400, 15)\n",
    "# Check your answer\n",
    "q4.check()"
   ]
  },
  {
   "cell_type": "code",
   "execution_count": 9,
   "id": "d9ddbf7c",
   "metadata": {
    "execution": {
     "iopub.execute_input": "2025-03-02T07:53:37.719915Z",
     "iopub.status.busy": "2025-03-02T07:53:37.719506Z",
     "iopub.status.idle": "2025-03-02T07:53:37.723314Z",
     "shell.execute_reply": "2025-03-02T07:53:37.722423Z"
    },
    "papermill": {
     "duration": 0.012186,
     "end_time": "2025-03-02T07:53:37.724952",
     "exception": false,
     "start_time": "2025-03-02T07:53:37.712766",
     "status": "completed"
    },
    "tags": []
   },
   "outputs": [],
   "source": [
    "# Uncomment to see a hint\n",
    "#q4.hint()\n",
    "\n",
    "# Uncomment to view the solution\n",
    "#q4.solution()"
   ]
  },
  {
   "cell_type": "markdown",
   "id": "08d71ca5",
   "metadata": {
    "papermill": {
     "duration": 0.005746,
     "end_time": "2025-03-02T07:53:37.736725",
     "exception": false,
     "start_time": "2025-03-02T07:53:37.730979",
     "status": "completed"
    },
    "tags": []
   },
   "source": [
    "# 🌶️ Question 5\n",
    "\n",
    "Now say you can no longer buy fractions of a gallon.  (For instance, if you need 4.3 gallons to do a project, then you have to buy 5 gallons of paint.)\n",
    "\n",
    "With this new scenario, you will create a new function `get_actual_cost` that uses the same inputs and calculates the cost of your project.\n",
    "\n",
    "One function that you'll need to use to do this is `math.ceil()`.  We demonstrate usage of this function in the code cell below.  It takes as a number as input and rounds the number up to the nearest integer.  \n",
    "\n",
    "Run the next code cell to test this function for yourself.  Feel free to change the value of `test_value` and make sure `math.ceil()` returns the number you expect."
   ]
  },
  {
   "cell_type": "code",
   "execution_count": 10,
   "id": "4ee3fef6",
   "metadata": {
    "execution": {
     "iopub.execute_input": "2025-03-02T07:53:37.749651Z",
     "iopub.status.busy": "2025-03-02T07:53:37.749263Z",
     "iopub.status.idle": "2025-03-02T07:53:37.754745Z",
     "shell.execute_reply": "2025-03-02T07:53:37.753502Z"
    },
    "papermill": {
     "duration": 0.013655,
     "end_time": "2025-03-02T07:53:37.756315",
     "exception": false,
     "start_time": "2025-03-02T07:53:37.742660",
     "status": "completed"
    },
    "tags": []
   },
   "outputs": [
    {
     "name": "stdout",
     "output_type": "stream",
     "text": [
      "3\n"
     ]
    }
   ],
   "source": [
    "test_value = 2.17\n",
    "\n",
    "rounded_value = math.ceil(test_value)\n",
    "print(rounded_value)"
   ]
  },
  {
   "cell_type": "markdown",
   "id": "d2d7222d",
   "metadata": {
    "papermill": {
     "duration": 0.005494,
     "end_time": "2025-03-02T07:53:37.767895",
     "exception": false,
     "start_time": "2025-03-02T07:53:37.762401",
     "status": "completed"
    },
    "tags": []
   },
   "source": [
    "Use the next code cell to define the function `get_actual_cost()`.  You'll need to use the `math.ceil()` function to do this.\n",
    "\n",
    "When answering this question, note that it's completely valid to define a function that makes use of another function.  For instance, we can define a function `round_up_and_divide_by_three` that makes use of the `math.ceil` function:\n",
    "```\n",
    "def round_up_and_divide_by_three(num):\n",
    "    new_value = math.ceil(num)\n",
    "    final_value = new_value / 3\n",
    "    return final_value\n",
    "```"
   ]
  },
  {
   "cell_type": "code",
   "execution_count": 11,
   "id": "5360cb38",
   "metadata": {
    "execution": {
     "iopub.execute_input": "2025-03-02T07:53:37.780490Z",
     "iopub.status.busy": "2025-03-02T07:53:37.780160Z",
     "iopub.status.idle": "2025-03-02T07:53:37.788224Z",
     "shell.execute_reply": "2025-03-02T07:53:37.786959Z"
    },
    "papermill": {
     "duration": 0.016354,
     "end_time": "2025-03-02T07:53:37.789952",
     "exception": false,
     "start_time": "2025-03-02T07:53:37.773598",
     "status": "completed"
    },
    "tags": []
   },
   "outputs": [
    {
     "data": {
      "application/javascript": [
       "parent.postMessage({\"jupyterEvent\": \"custom.exercise_interaction\", \"data\": {\"outcomeType\": 1, \"valueTowardsCompletion\": 0.2, \"interactionType\": 1, \"questionType\": 2, \"questionId\": \"5_NoMoreFractions\", \"learnToolsVersion\": \"0.3.4\", \"failureMessage\": \"\", \"exceptionClass\": \"\", \"trace\": \"\"}}, \"*\")"
      ],
      "text/plain": [
       "<IPython.core.display.Javascript object>"
      ]
     },
     "metadata": {},
     "output_type": "display_data"
    },
    {
     "data": {
      "text/markdown": [
       "<span style=\"color:#33cc33\">Correct</span>"
      ],
      "text/plain": [
       "Correct"
      ]
     },
     "metadata": {},
     "output_type": "display_data"
    }
   ],
   "source": [
    "def  get_actual_cost(sqft_walls, sqft_ceiling, sqft_per_gallon, cost_per_gallon):\n",
    "    total_sqft = sqft_walls + sqft_ceiling\n",
    "    gallons_needed = total_sqft / sqft_per_gallon\n",
    "    gallons_to_buy = math.ceil(gallons_needed)\n",
    "    cost = cost_per_gallon * gallons_to_buy\n",
    "    return cost\n",
    "\n",
    "# Check your answer\n",
    "q5.check()"
   ]
  },
  {
   "cell_type": "code",
   "execution_count": 12,
   "id": "6f7497f5",
   "metadata": {
    "execution": {
     "iopub.execute_input": "2025-03-02T07:53:37.803799Z",
     "iopub.status.busy": "2025-03-02T07:53:37.803394Z",
     "iopub.status.idle": "2025-03-02T07:53:37.807346Z",
     "shell.execute_reply": "2025-03-02T07:53:37.806285Z"
    },
    "papermill": {
     "duration": 0.012696,
     "end_time": "2025-03-02T07:53:37.809091",
     "exception": false,
     "start_time": "2025-03-02T07:53:37.796395",
     "status": "completed"
    },
    "tags": []
   },
   "outputs": [],
   "source": [
    "# Uncomment to see a hint\n",
    "#q5.hint()\n",
    "\n",
    "# Uncomment to view the solution\n",
    "#q5.solution()"
   ]
  },
  {
   "cell_type": "markdown",
   "id": "16e95dd7",
   "metadata": {
    "papermill": {
     "duration": 0.005742,
     "end_time": "2025-03-02T07:53:37.820967",
     "exception": false,
     "start_time": "2025-03-02T07:53:37.815225",
     "status": "completed"
    },
    "tags": []
   },
   "source": [
    "Once your function is verified as correct, run the next code cell to calculate the updated cost of your project."
   ]
  },
  {
   "cell_type": "code",
   "execution_count": 13,
   "id": "372692de",
   "metadata": {
    "execution": {
     "iopub.execute_input": "2025-03-02T07:53:37.834641Z",
     "iopub.status.busy": "2025-03-02T07:53:37.834234Z",
     "iopub.status.idle": "2025-03-02T07:53:37.840497Z",
     "shell.execute_reply": "2025-03-02T07:53:37.839294Z"
    },
    "papermill": {
     "duration": 0.015412,
     "end_time": "2025-03-02T07:53:37.842428",
     "exception": false,
     "start_time": "2025-03-02T07:53:37.827016",
     "status": "completed"
    },
    "tags": []
   },
   "outputs": [
    {
     "data": {
      "text/plain": [
       "30"
      ]
     },
     "execution_count": 13,
     "metadata": {},
     "output_type": "execute_result"
    }
   ],
   "source": [
    "get_actual_cost(432, 144, 400, 15) "
   ]
  },
  {
   "cell_type": "markdown",
   "id": "24bb2e08",
   "metadata": {
    "papermill": {
     "duration": 0.006006,
     "end_time": "2025-03-02T07:53:37.854921",
     "exception": false,
     "start_time": "2025-03-02T07:53:37.848915",
     "status": "completed"
    },
    "tags": []
   },
   "source": [
    "Say you're working with a slightly larger room.  Run the next code cell to calculate the cost of the project."
   ]
  },
  {
   "cell_type": "code",
   "execution_count": 14,
   "id": "dc76f9e3",
   "metadata": {
    "execution": {
     "iopub.execute_input": "2025-03-02T07:53:37.868771Z",
     "iopub.status.busy": "2025-03-02T07:53:37.868393Z",
     "iopub.status.idle": "2025-03-02T07:53:37.873957Z",
     "shell.execute_reply": "2025-03-02T07:53:37.873127Z"
    },
    "papermill": {
     "duration": 0.014134,
     "end_time": "2025-03-02T07:53:37.875455",
     "exception": false,
     "start_time": "2025-03-02T07:53:37.861321",
     "status": "completed"
    },
    "tags": []
   },
   "outputs": [
    {
     "data": {
      "text/plain": [
       "45"
      ]
     },
     "execution_count": 14,
     "metadata": {},
     "output_type": "execute_result"
    }
   ],
   "source": [
    "get_actual_cost(594, 288, 400, 15) "
   ]
  },
  {
   "cell_type": "markdown",
   "id": "117b2f7e",
   "metadata": {
    "papermill": {
     "duration": 0.005995,
     "end_time": "2025-03-02T07:53:37.887821",
     "exception": false,
     "start_time": "2025-03-02T07:53:37.881826",
     "status": "completed"
    },
    "tags": []
   },
   "source": [
    "# Keep going\n",
    "\n",
    "Continue to learn about **[data types](https://www.kaggle.com/alexisbcook/data-types)**."
   ]
  },
  {
   "cell_type": "markdown",
   "id": "aead3c88",
   "metadata": {
    "papermill": {
     "duration": 0.005875,
     "end_time": "2025-03-02T07:53:37.900259",
     "exception": false,
     "start_time": "2025-03-02T07:53:37.894384",
     "status": "completed"
    },
    "tags": []
   },
   "source": [
    "---\n",
    "\n",
    "\n",
    "\n",
    "\n",
    "*Have questions or comments? Visit the [course discussion forum](https://www.kaggle.com/learn/intro-to-programming/discussion) to chat with other learners.*"
   ]
  }
 ],
 "metadata": {
  "kaggle": {
   "accelerator": "none",
   "dataSources": [],
   "isGpuEnabled": false,
   "isInternetEnabled": false,
   "language": "python",
   "sourceType": "notebook"
  },
  "kernelspec": {
   "display_name": "Python 3",
   "language": "python",
   "name": "python3"
  },
  "language_info": {
   "codemirror_mode": {
    "name": "ipython",
    "version": 3
   },
   "file_extension": ".py",
   "mimetype": "text/x-python",
   "name": "python",
   "nbconvert_exporter": "python",
   "pygments_lexer": "ipython3",
   "version": "3.10.12"
  },
  "papermill": {
   "default_parameters": {},
   "duration": 4.718932,
   "end_time": "2025-03-02T07:53:38.525946",
   "environment_variables": {},
   "exception": null,
   "input_path": "__notebook__.ipynb",
   "output_path": "__notebook__.ipynb",
   "parameters": {},
   "start_time": "2025-03-02T07:53:33.807014",
   "version": "2.6.0"
  }
 },
 "nbformat": 4,
 "nbformat_minor": 5
}
