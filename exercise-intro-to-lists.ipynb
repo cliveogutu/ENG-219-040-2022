{
 "cells": [
  {
   "cell_type": "markdown",
   "id": "375029ad",
   "metadata": {
    "papermill": {
     "duration": 0.006079,
     "end_time": "2025-03-02T08:25:12.659644",
     "exception": false,
     "start_time": "2025-03-02T08:25:12.653565",
     "status": "completed"
    },
    "tags": []
   },
   "source": [
    "**This notebook is an exercise in the [Intro to Programming](https://www.kaggle.com/learn/intro-to-programming) course.  You can reference the tutorial at [this link](https://www.kaggle.com/alexisbcook/intro-to-lists).**\n",
    "\n",
    "---\n"
   ]
  },
  {
   "cell_type": "markdown",
   "id": "dd38f637",
   "metadata": {
    "papermill": {
     "duration": 0.006555,
     "end_time": "2025-03-02T08:25:12.673643",
     "exception": false,
     "start_time": "2025-03-02T08:25:12.667088",
     "status": "completed"
    },
    "tags": []
   },
   "source": [
    "In the tutorial, you learned how to define and modify Python lists.  In this exercise, you will use your new knowledge to solve several problems.\n",
    "\n",
    "# Set up the notebook\n",
    "\n",
    "Run the next code cell without changes to set up the notebook."
   ]
  },
  {
   "cell_type": "code",
   "execution_count": 1,
   "id": "987b0246",
   "metadata": {
    "execution": {
     "iopub.execute_input": "2025-03-02T08:25:12.687635Z",
     "iopub.status.busy": "2025-03-02T08:25:12.687128Z",
     "iopub.status.idle": "2025-03-02T08:25:13.814093Z",
     "shell.execute_reply": "2025-03-02T08:25:13.812648Z"
    },
    "papermill": {
     "duration": 1.136127,
     "end_time": "2025-03-02T08:25:13.815925",
     "exception": false,
     "start_time": "2025-03-02T08:25:12.679798",
     "status": "completed"
    },
    "tags": []
   },
   "outputs": [
    {
     "name": "stdout",
     "output_type": "stream",
     "text": [
      "Setup complete.\n"
     ]
    }
   ],
   "source": [
    "from learntools.core import binder\n",
    "binder.bind(globals())\n",
    "from learntools.intro_to_programming.ex5 import *\n",
    "print('Setup complete.')"
   ]
  },
  {
   "cell_type": "markdown",
   "id": "4e23edab",
   "metadata": {
    "papermill": {
     "duration": 0.005065,
     "end_time": "2025-03-02T08:25:13.826753",
     "exception": false,
     "start_time": "2025-03-02T08:25:13.821688",
     "status": "completed"
    },
    "tags": []
   },
   "source": [
    "# Question 1\n",
    "\n",
    "You own a restaurant with five food dishes, organized in the Python list `menu` below.  One day, you decide to:\n",
    "- remove bean soup (`'bean soup'`) from the menu, and\n",
    "- add roasted beet salad (`'roasted beet salad'`) to the menu.\n",
    "\n",
    "Implement this change to the list below.  While completing this task, \n",
    "- do not change the line that creates the `menu` list.  \n",
    "- your answer should use `.remove()` and `.append()`.  "
   ]
  },
  {
   "cell_type": "code",
   "execution_count": 2,
   "id": "16352d89",
   "metadata": {
    "execution": {
     "iopub.execute_input": "2025-03-02T08:25:13.839036Z",
     "iopub.status.busy": "2025-03-02T08:25:13.838503Z",
     "iopub.status.idle": "2025-03-02T08:25:13.847832Z",
     "shell.execute_reply": "2025-03-02T08:25:13.846698Z"
    },
    "papermill": {
     "duration": 0.017246,
     "end_time": "2025-03-02T08:25:13.849408",
     "exception": false,
     "start_time": "2025-03-02T08:25:13.832162",
     "status": "completed"
    },
    "tags": []
   },
   "outputs": [
    {
     "data": {
      "application/javascript": [
       "parent.postMessage({\"jupyterEvent\": \"custom.exercise_interaction\", \"data\": {\"outcomeType\": 1, \"valueTowardsCompletion\": 0.2, \"interactionType\": 1, \"questionType\": 2, \"questionId\": \"1_FoodMenu\", \"learnToolsVersion\": \"0.3.4\", \"failureMessage\": \"\", \"exceptionClass\": \"\", \"trace\": \"\"}}, \"*\")"
      ],
      "text/plain": [
       "<IPython.core.display.Javascript object>"
      ]
     },
     "metadata": {},
     "output_type": "display_data"
    },
    {
     "data": {
      "text/markdown": [
       "<span style=\"color:#33cc33\">Correct</span>"
      ],
      "text/plain": [
       "Correct"
      ]
     },
     "metadata": {},
     "output_type": "display_data"
    }
   ],
   "source": [
    "# Do not change: Initial menu for your restaurant\n",
    "menu = ['stewed meat with onions', 'bean soup', 'risotto with trout and shrimp',\n",
    "       'fish soup with cream and onion', 'gyro']\n",
    "\n",
    "# TODO: remove 'bean soup', and add 'roasted beet salad' to the end of the menu\n",
    "menu.remove('bean soup')\n",
    "menu.append('roasted beet salad')\n",
    "\n",
    "# Do not change: Check your answer\n",
    "q1.check()"
   ]
  },
  {
   "cell_type": "code",
   "execution_count": 3,
   "id": "ceb6b52e",
   "metadata": {
    "execution": {
     "iopub.execute_input": "2025-03-02T08:25:13.863102Z",
     "iopub.status.busy": "2025-03-02T08:25:13.862686Z",
     "iopub.status.idle": "2025-03-02T08:25:13.866676Z",
     "shell.execute_reply": "2025-03-02T08:25:13.865523Z"
    },
    "papermill": {
     "duration": 0.013204,
     "end_time": "2025-03-02T08:25:13.868662",
     "exception": false,
     "start_time": "2025-03-02T08:25:13.855458",
     "status": "completed"
    },
    "tags": []
   },
   "outputs": [],
   "source": [
    "# Uncomment to see a hint\n",
    "#q1.hint()\n",
    "\n",
    "# Uncomment to see the solution\n",
    "#q1.solution()"
   ]
  },
  {
   "cell_type": "markdown",
   "id": "e10ffe11",
   "metadata": {
    "papermill": {
     "duration": 0.005218,
     "end_time": "2025-03-02T08:25:13.879690",
     "exception": false,
     "start_time": "2025-03-02T08:25:13.874472",
     "status": "completed"
    },
    "tags": []
   },
   "source": [
    "# Question 2\n",
    "\n",
    "The list `num_customers` contains the number of customers who came into your restaurant every day over the last month (which lasted thirty days).  Fill in values for each of the following:\n",
    "- `avg_first_seven` - average number of customers who visited in the first seven days\n",
    "- `avg_last_seven` - average number of customers who visited in the last seven days\n",
    "- `max_month` - number of customers on the day that got the most customers in the last month\n",
    "- `min_month` - number of customers on the day that got the least customers in the last month\n",
    "\n",
    "Answer this question by writing code.  For instance, if you have to find the minimum value in a list, use `min()` instead of scanning for the smallest value and directly filling in a number."
   ]
  },
  {
   "cell_type": "code",
   "execution_count": 4,
   "id": "fdc190d3",
   "metadata": {
    "execution": {
     "iopub.execute_input": "2025-03-02T08:25:13.892303Z",
     "iopub.status.busy": "2025-03-02T08:25:13.891892Z",
     "iopub.status.idle": "2025-03-02T08:25:13.901475Z",
     "shell.execute_reply": "2025-03-02T08:25:13.900294Z"
    },
    "papermill": {
     "duration": 0.018454,
     "end_time": "2025-03-02T08:25:13.903832",
     "exception": false,
     "start_time": "2025-03-02T08:25:13.885378",
     "status": "completed"
    },
    "tags": []
   },
   "outputs": [
    {
     "data": {
      "application/javascript": [
       "parent.postMessage({\"jupyterEvent\": \"custom.exercise_interaction\", \"data\": {\"outcomeType\": 1, \"valueTowardsCompletion\": 0.2, \"interactionType\": 1, \"questionType\": 1, \"questionId\": \"2_NumCustomers\", \"learnToolsVersion\": \"0.3.4\", \"failureMessage\": \"\", \"exceptionClass\": \"\", \"trace\": \"\"}}, \"*\")"
      ],
      "text/plain": [
       "<IPython.core.display.Javascript object>"
      ]
     },
     "metadata": {},
     "output_type": "display_data"
    },
    {
     "data": {
      "text/markdown": [
       "<span style=\"color:#33cc33\">Correct</span>"
      ],
      "text/plain": [
       "Correct"
      ]
     },
     "metadata": {},
     "output_type": "display_data"
    }
   ],
   "source": [
    "# Do not change: Number of customers each day for the last month\n",
    "num_customers = [137, 147, 135, 128, 170, 174, 165, 146, 126, 159,\n",
    "                 141, 148, 132, 147, 168, 153, 170, 161, 148, 152,\n",
    "                 141, 151, 131, 149, 164, 163, 143, 143, 166, 171]\n",
    "\n",
    "# TODO: Fill in values for the variables below\n",
    "avg_first_seven = sum(num_customers[:7])/7 \n",
    "avg_last_seven = sum(num_customers[-7:])/7\n",
    "max_month = max(num_customers)\n",
    "min_month = min(num_customers)\n",
    "\n",
    "# Do not change: Check your answer\n",
    "q2.check()"
   ]
  },
  {
   "cell_type": "code",
   "execution_count": 5,
   "id": "00b0717f",
   "metadata": {
    "execution": {
     "iopub.execute_input": "2025-03-02T08:25:13.918086Z",
     "iopub.status.busy": "2025-03-02T08:25:13.917676Z",
     "iopub.status.idle": "2025-03-02T08:25:13.921924Z",
     "shell.execute_reply": "2025-03-02T08:25:13.920726Z"
    },
    "papermill": {
     "duration": 0.0139,
     "end_time": "2025-03-02T08:25:13.923728",
     "exception": false,
     "start_time": "2025-03-02T08:25:13.909828",
     "status": "completed"
    },
    "tags": []
   },
   "outputs": [],
   "source": [
    "# Uncomment to see a hint\n",
    "#q2.hint()\n",
    "\n",
    "# Uncomment to see the solution\n",
    "#q2.solution()"
   ]
  },
  {
   "cell_type": "markdown",
   "id": "d657a7ed",
   "metadata": {
    "papermill": {
     "duration": 0.005464,
     "end_time": "2025-03-02T08:25:13.935111",
     "exception": false,
     "start_time": "2025-03-02T08:25:13.929647",
     "status": "completed"
    },
    "tags": []
   },
   "source": [
    "# Question 3\n",
    "\n",
    "In the tutorial, we gave an example of a Python string with information that was better as a list."
   ]
  },
  {
   "cell_type": "code",
   "execution_count": 6,
   "id": "551193ff",
   "metadata": {
    "execution": {
     "iopub.execute_input": "2025-03-02T08:25:13.948343Z",
     "iopub.status.busy": "2025-03-02T08:25:13.947892Z",
     "iopub.status.idle": "2025-03-02T08:25:13.952471Z",
     "shell.execute_reply": "2025-03-02T08:25:13.951251Z"
    },
    "papermill": {
     "duration": 0.013513,
     "end_time": "2025-03-02T08:25:13.954303",
     "exception": false,
     "start_time": "2025-03-02T08:25:13.940790",
     "status": "completed"
    },
    "tags": []
   },
   "outputs": [],
   "source": [
    "flowers = \"pink primrose,hard-leaved pocket orchid,canterbury bells,sweet pea,english marigold,tiger lily,moon orchid,bird of paradise,monkshood,globe thistle\""
   ]
  },
  {
   "cell_type": "markdown",
   "id": "df59b8a2",
   "metadata": {
    "papermill": {
     "duration": 0.005957,
     "end_time": "2025-03-02T08:25:13.966418",
     "exception": false,
     "start_time": "2025-03-02T08:25:13.960461",
     "status": "completed"
    },
    "tags": []
   },
   "source": [
    "You can actually use Python to quickly turn this string into a list with `.split()`.  In the parentheses, we need to provide the character should be used to mark the end of one list item and the beginning of another, and enclose it in quotation marks.  In this case, that character is a comma."
   ]
  },
  {
   "cell_type": "code",
   "execution_count": 7,
   "id": "4f2e5338",
   "metadata": {
    "execution": {
     "iopub.execute_input": "2025-03-02T08:25:13.980140Z",
     "iopub.status.busy": "2025-03-02T08:25:13.979737Z",
     "iopub.status.idle": "2025-03-02T08:25:13.985589Z",
     "shell.execute_reply": "2025-03-02T08:25:13.984487Z"
    },
    "papermill": {
     "duration": 0.014801,
     "end_time": "2025-03-02T08:25:13.987406",
     "exception": false,
     "start_time": "2025-03-02T08:25:13.972605",
     "status": "completed"
    },
    "tags": []
   },
   "outputs": [
    {
     "name": "stdout",
     "output_type": "stream",
     "text": [
      "['pink primrose', 'hard-leaved pocket orchid', 'canterbury bells', 'sweet pea', 'english marigold', 'tiger lily', 'moon orchid', 'bird of paradise', 'monkshood', 'globe thistle']\n"
     ]
    }
   ],
   "source": [
    " print(flowers.split(\",\"))"
   ]
  },
  {
   "cell_type": "markdown",
   "id": "ddf66cd3",
   "metadata": {
    "papermill": {
     "duration": 0.005714,
     "end_time": "2025-03-02T08:25:13.999608",
     "exception": false,
     "start_time": "2025-03-02T08:25:13.993894",
     "status": "completed"
    },
    "tags": []
   },
   "source": [
    "Now it is your turn to try this out!  Create two Python lists:\n",
    "- `letters` should be a Python list where each entry is an uppercase letter of the English alphabet.  For instance, the first two entries should be `\"A\"` and `\"B\"`, and the final two entries should be `\"Y\"` and `\"Z\"`.  Use the string `alphabet` to create this list.\n",
    "- `address` should be a Python list where each row in `address` is a different item in the list.  Currently, each row in `address` is separated by a comma. "
   ]
  },
  {
   "cell_type": "code",
   "execution_count": 8,
   "id": "71920f3d",
   "metadata": {
    "execution": {
     "iopub.execute_input": "2025-03-02T08:25:14.012754Z",
     "iopub.status.busy": "2025-03-02T08:25:14.012390Z",
     "iopub.status.idle": "2025-03-02T08:25:14.020340Z",
     "shell.execute_reply": "2025-03-02T08:25:14.019373Z"
    },
    "papermill": {
     "duration": 0.01684,
     "end_time": "2025-03-02T08:25:14.022178",
     "exception": false,
     "start_time": "2025-03-02T08:25:14.005338",
     "status": "completed"
    },
    "tags": []
   },
   "outputs": [
    {
     "data": {
      "application/javascript": [
       "parent.postMessage({\"jupyterEvent\": \"custom.exercise_interaction\", \"data\": {\"outcomeType\": 1, \"valueTowardsCompletion\": 0.2, \"interactionType\": 1, \"questionType\": 1, \"questionId\": \"3_SplitString\", \"learnToolsVersion\": \"0.3.4\", \"failureMessage\": \"\", \"exceptionClass\": \"\", \"trace\": \"\"}}, \"*\")"
      ],
      "text/plain": [
       "<IPython.core.display.Javascript object>"
      ]
     },
     "metadata": {},
     "output_type": "display_data"
    },
    {
     "data": {
      "text/markdown": [
       "<span style=\"color:#33cc33\">Correct</span>"
      ],
      "text/plain": [
       "Correct"
      ]
     },
     "metadata": {},
     "output_type": "display_data"
    }
   ],
   "source": [
    "# DO not change: Define two Python strings\n",
    "alphabet = \"A.B.C.D.E.F.G.H.I.J.K.L.M.N.O.P.Q.R.S.T.U.V.W.X.Y.Z\"\n",
    "address = \"Mr. H. Potter,The cupboard under the Stairs,4 Privet Drive,Little Whinging,Surrey\"\n",
    "\n",
    "# TODO: Convert strings into Python lists\n",
    "letters = alphabet.split(\".\")\n",
    "formatted_address = address.split(\",\")\n",
    "# Do not change: Check your answer\n",
    "q3.check()"
   ]
  },
  {
   "cell_type": "code",
   "execution_count": 9,
   "id": "dff91e80",
   "metadata": {
    "execution": {
     "iopub.execute_input": "2025-03-02T08:25:14.036328Z",
     "iopub.status.busy": "2025-03-02T08:25:14.035886Z",
     "iopub.status.idle": "2025-03-02T08:25:14.039914Z",
     "shell.execute_reply": "2025-03-02T08:25:14.038982Z"
    },
    "papermill": {
     "duration": 0.013253,
     "end_time": "2025-03-02T08:25:14.041805",
     "exception": false,
     "start_time": "2025-03-02T08:25:14.028552",
     "status": "completed"
    },
    "tags": []
   },
   "outputs": [],
   "source": [
    "# Uncomment to see a hint\n",
    "#q3.hint()\n",
    "\n",
    "# Uncomment to see the solution\n",
    "#q3.solution()"
   ]
  },
  {
   "cell_type": "markdown",
   "id": "9a3e16e2",
   "metadata": {
    "papermill": {
     "duration": 0.005605,
     "end_time": "2025-03-02T08:25:14.053600",
     "exception": false,
     "start_time": "2025-03-02T08:25:14.047995",
     "status": "completed"
    },
    "tags": []
   },
   "source": [
    "# Question 4\n",
    "\n",
    "In the Python course, you'll learn all about **list comprehensions**, which allow you to create a list based on the values in another list.  In this question, you'll get a brief preview of how they work.\n",
    "\n",
    "Say we're working with the list below."
   ]
  },
  {
   "cell_type": "code",
   "execution_count": 10,
   "id": "97271b57",
   "metadata": {
    "execution": {
     "iopub.execute_input": "2025-03-02T08:25:14.069178Z",
     "iopub.status.busy": "2025-03-02T08:25:14.068765Z",
     "iopub.status.idle": "2025-03-02T08:25:14.073373Z",
     "shell.execute_reply": "2025-03-02T08:25:14.072282Z"
    },
    "papermill": {
     "duration": 0.015678,
     "end_time": "2025-03-02T08:25:14.075602",
     "exception": false,
     "start_time": "2025-03-02T08:25:14.059924",
     "status": "completed"
    },
    "tags": []
   },
   "outputs": [],
   "source": [
    "test_ratings = [1, 2, 3, 4, 5]"
   ]
  },
  {
   "cell_type": "markdown",
   "id": "5073eac8",
   "metadata": {
    "papermill": {
     "duration": 0.006973,
     "end_time": "2025-03-02T08:25:14.088825",
     "exception": false,
     "start_time": "2025-03-02T08:25:14.081852",
     "status": "completed"
    },
    "tags": []
   },
   "source": [
    "Then we can use this list (`test_ratings`) to create a new list (`test_liked`) where each item has been turned into a boolean, depending on whether or not the item is greater than or equal to four."
   ]
  },
  {
   "cell_type": "code",
   "execution_count": 11,
   "id": "f3eef3e9",
   "metadata": {
    "execution": {
     "iopub.execute_input": "2025-03-02T08:25:14.102643Z",
     "iopub.status.busy": "2025-03-02T08:25:14.102294Z",
     "iopub.status.idle": "2025-03-02T08:25:14.108368Z",
     "shell.execute_reply": "2025-03-02T08:25:14.107061Z"
    },
    "papermill": {
     "duration": 0.01543,
     "end_time": "2025-03-02T08:25:14.110356",
     "exception": false,
     "start_time": "2025-03-02T08:25:14.094926",
     "status": "completed"
    },
    "tags": []
   },
   "outputs": [
    {
     "name": "stdout",
     "output_type": "stream",
     "text": [
      "[False, False, False, True, True]\n"
     ]
    }
   ],
   "source": [
    "test_liked = [i>=4 for i in test_ratings]\n",
    "print(test_liked)"
   ]
  },
  {
   "cell_type": "markdown",
   "id": "335df2e6",
   "metadata": {
    "papermill": {
     "duration": 0.006495,
     "end_time": "2025-03-02T08:25:14.123471",
     "exception": false,
     "start_time": "2025-03-02T08:25:14.116976",
     "status": "completed"
    },
    "tags": []
   },
   "source": [
    "In this question, you'll use this list comprehension to define a function `percentage_liked()` that takes one argument as input:\n",
    "- `ratings`: list of ratings that people gave to a movie, where each rating is a number between 1-5, inclusive\n",
    "\n",
    "We say someone liked the movie, if they gave a rating of either 4 or 5.  Your function should return the percentage of people who liked the movie.\n",
    "\n",
    "For instance, if we supply a value of `[1, 2, 3, 4, 5, 4, 5, 1]`, then 50% (4/8) of the people liked the movie, and the function should return `0.5`.\n",
    "\n",
    "Part of the function has already been completed for you.  You need only use `list_liked` to calculate `percentage_liked`."
   ]
  },
  {
   "cell_type": "code",
   "execution_count": 12,
   "id": "8b4f6ac3",
   "metadata": {
    "execution": {
     "iopub.execute_input": "2025-03-02T08:25:14.138980Z",
     "iopub.status.busy": "2025-03-02T08:25:14.138572Z",
     "iopub.status.idle": "2025-03-02T08:25:14.147751Z",
     "shell.execute_reply": "2025-03-02T08:25:14.146670Z"
    },
    "papermill": {
     "duration": 0.018689,
     "end_time": "2025-03-02T08:25:14.149466",
     "exception": false,
     "start_time": "2025-03-02T08:25:14.130777",
     "status": "completed"
    },
    "tags": []
   },
   "outputs": [
    {
     "data": {
      "application/javascript": [
       "parent.postMessage({\"jupyterEvent\": \"custom.exercise_interaction\", \"data\": {\"outcomeType\": 1, \"valueTowardsCompletion\": 0.2, \"interactionType\": 1, \"questionType\": 2, \"questionId\": \"4_PercentageLiked\", \"learnToolsVersion\": \"0.3.4\", \"failureMessage\": \"\", \"exceptionClass\": \"\", \"trace\": \"\"}}, \"*\")"
      ],
      "text/plain": [
       "<IPython.core.display.Javascript object>"
      ]
     },
     "metadata": {},
     "output_type": "display_data"
    },
    {
     "data": {
      "text/markdown": [
       "<span style=\"color:#33cc33\">Correct</span>"
      ],
      "text/plain": [
       "Correct"
      ]
     },
     "metadata": {},
     "output_type": "display_data"
    }
   ],
   "source": [
    "\n",
    "def percentage_liked(ratings):\n",
    "    list_liked = [i >= 4 for i in ratings]\n",
    "    percentage_liked = sum(list_liked)/len(list_liked)\n",
    "    return percentage_liked\n",
    "\n",
    "# Do not change: should return 0.5\n",
    "percentage_liked([1, 2, 3, 4, 5, 4, 5, 1])\n",
    "\n",
    "# Do not change: Check your answer\n",
    "q4.check()"
   ]
  },
  {
   "cell_type": "code",
   "execution_count": 13,
   "id": "b6bde4fa",
   "metadata": {
    "execution": {
     "iopub.execute_input": "2025-03-02T08:25:14.164051Z",
     "iopub.status.busy": "2025-03-02T08:25:14.163618Z",
     "iopub.status.idle": "2025-03-02T08:25:14.168033Z",
     "shell.execute_reply": "2025-03-02T08:25:14.166889Z"
    },
    "papermill": {
     "duration": 0.014082,
     "end_time": "2025-03-02T08:25:14.169839",
     "exception": false,
     "start_time": "2025-03-02T08:25:14.155757",
     "status": "completed"
    },
    "tags": []
   },
   "outputs": [],
   "source": [
    "# Uncomment to see a hint\n",
    "#q4.hint()\n",
    "\n",
    "# Uncomment to see the solution\n",
    "#q4.solution()"
   ]
  },
  {
   "cell_type": "markdown",
   "id": "610c0663",
   "metadata": {
    "papermill": {
     "duration": 0.006223,
     "end_time": "2025-03-02T08:25:14.183071",
     "exception": false,
     "start_time": "2025-03-02T08:25:14.176848",
     "status": "completed"
    },
    "tags": []
   },
   "source": [
    "# 🌶️ Question 5\n",
    " \n",
    "Say you're doing analytics for a website.  You need to write a function that returns the percentage growth in the total number of users relative to a specified number of years ago.\n",
    "\n",
    "Your function `percentage_growth()` should take two arguments as input:\n",
    "- `num_users` = Python list with the total number of users each year.  So `num_users[0]` is the total number of users in the first year, `num_users[1]` is the total number of users in the second year, and so on.  The final entry in the list gives the total number of users in the most recently completed year.\n",
    "- `yrs_ago` = number of years to go back in time when calculating the growth percentage\n",
    "\n",
    "For instance, say `num_users = [920344, 1043553, 1204334, 1458996, 1503323, 1593432, 1623463, 1843064, 1930992, 2001078]`.\n",
    "- if `yrs_ago = 1`, we want the function to return a value of about `0.036`. This corresponds to a percentage growth of approximately 3.6%, calculated as (2001078 - 1930992)/1930992.\n",
    "- if `years_ago = 7`, we would want to return approximately `0.66`.  This corresponds to a percentage growth of approximately 66%, calculated as (2001078 - 1204334)/1204334.\n",
    "\n",
    "Your coworker sent you a draft of a function, but it doesn't seem to be doing the correct calculation.  Can you figure out what has gone wrong and make the needed changes?"
   ]
  },
  {
   "cell_type": "code",
   "execution_count": 14,
   "id": "d1ef8fd8",
   "metadata": {
    "execution": {
     "iopub.execute_input": "2025-03-02T08:25:14.197587Z",
     "iopub.status.busy": "2025-03-02T08:25:14.197235Z",
     "iopub.status.idle": "2025-03-02T08:25:14.207809Z",
     "shell.execute_reply": "2025-03-02T08:25:14.206567Z"
    },
    "papermill": {
     "duration": 0.020209,
     "end_time": "2025-03-02T08:25:14.209709",
     "exception": false,
     "start_time": "2025-03-02T08:25:14.189500",
     "status": "completed"
    },
    "tags": []
   },
   "outputs": [
    {
     "name": "stdout",
     "output_type": "stream",
     "text": [
      "0.03629533421163837\n",
      "0.6615639847417742\n"
     ]
    },
    {
     "data": {
      "application/javascript": [
       "parent.postMessage({\"jupyterEvent\": \"custom.exercise_interaction\", \"data\": {\"outcomeType\": 1, \"valueTowardsCompletion\": 0.2, \"interactionType\": 1, \"questionType\": 2, \"questionId\": \"5_WebsiteAnalytics\", \"learnToolsVersion\": \"0.3.4\", \"failureMessage\": \"\", \"exceptionClass\": \"\", \"trace\": \"\"}}, \"*\")"
      ],
      "text/plain": [
       "<IPython.core.display.Javascript object>"
      ]
     },
     "metadata": {},
     "output_type": "display_data"
    },
    {
     "data": {
      "text/markdown": [
       "<span style=\"color:#33cc33\">Correct</span>"
      ],
      "text/plain": [
       "Correct"
      ]
     },
     "metadata": {},
     "output_type": "display_data"
    }
   ],
   "source": [
    "# TODO: Edit the function\n",
    "def  percentage_growth(num_users, yrs_ago):\n",
    "    growth = (num_users[len(num_users)-1] - num_users[len(num_users)-yrs_ago-1])/num_users[len(num_users)-yrs_ago-1]\n",
    "    return growth\n",
    "\n",
    "# Do not change: Variable for calculating some test examples\n",
    "num_users_test = [920344, 1043553, 1204334, 1458996, 1503323, 1593432, 1623463, 1843064, 1930992, 2001078]\n",
    "\n",
    "# Do not change: Should return .036\n",
    "print(percentage_growth(num_users_test, 1))\n",
    "\n",
    "# Do not change: Should return 0.66\n",
    "print(percentage_growth(num_users_test, 7))\n",
    "\n",
    "# Do not change: Check your answer\n",
    "q5.check()"
   ]
  },
  {
   "cell_type": "code",
   "execution_count": 15,
   "id": "699452d4",
   "metadata": {
    "execution": {
     "iopub.execute_input": "2025-03-02T08:25:14.224901Z",
     "iopub.status.busy": "2025-03-02T08:25:14.224570Z",
     "iopub.status.idle": "2025-03-02T08:25:14.228750Z",
     "shell.execute_reply": "2025-03-02T08:25:14.227471Z"
    },
    "papermill": {
     "duration": 0.01418,
     "end_time": "2025-03-02T08:25:14.231038",
     "exception": false,
     "start_time": "2025-03-02T08:25:14.216858",
     "status": "completed"
    },
    "tags": []
   },
   "outputs": [],
   "source": [
    "# Uncomment to see a hint\n",
    "#q5.hint()\n",
    "\n",
    "# Uncomment to see the solution\n",
    "#q5.solution()"
   ]
  },
  {
   "cell_type": "markdown",
   "id": "07f7ce7c",
   "metadata": {
    "papermill": {
     "duration": 0.006666,
     "end_time": "2025-03-02T08:25:14.244463",
     "exception": false,
     "start_time": "2025-03-02T08:25:14.237797",
     "status": "completed"
    },
    "tags": []
   },
   "source": [
    "# Congratulations!\n",
    "\n",
    "Congratulations for finishing the Intro to Programming course!  You should be proud of your very first steps with learning programming.  As next steps, we recommend taking:\n",
    "- the **[Python course](http://www.kaggle.com/learn/python)**, and \n",
    "- the **[Intro to Machine Learning course](https://www.kaggle.com/learn/intro-to-machine-learning)**."
   ]
  },
  {
   "cell_type": "markdown",
   "id": "15367787",
   "metadata": {
    "papermill": {
     "duration": 0.006336,
     "end_time": "2025-03-02T08:25:14.257499",
     "exception": false,
     "start_time": "2025-03-02T08:25:14.251163",
     "status": "completed"
    },
    "tags": []
   },
   "source": [
    "---\n",
    "\n",
    "\n",
    "\n",
    "\n",
    "*Have questions or comments? Visit the [course discussion forum](https://www.kaggle.com/learn/intro-to-programming/discussion) to chat with other learners.*"
   ]
  }
 ],
 "metadata": {
  "kaggle": {
   "accelerator": "none",
   "dataSources": [],
   "isGpuEnabled": false,
   "isInternetEnabled": false,
   "language": "python",
   "sourceType": "notebook"
  },
  "kernelspec": {
   "display_name": "Python 3",
   "language": "python",
   "name": "python3"
  },
  "language_info": {
   "codemirror_mode": {
    "name": "ipython",
    "version": 3
   },
   "file_extension": ".py",
   "mimetype": "text/x-python",
   "name": "python",
   "nbconvert_exporter": "python",
   "pygments_lexer": "ipython3",
   "version": "3.10.12"
  },
  "papermill": {
   "default_parameters": {},
   "duration": 5.4536,
   "end_time": "2025-03-02T08:25:14.886506",
   "environment_variables": {},
   "exception": null,
   "input_path": "__notebook__.ipynb",
   "output_path": "__notebook__.ipynb",
   "parameters": {},
   "start_time": "2025-03-02T08:25:09.432906",
   "version": "2.6.0"
  }
 },
 "nbformat": 4,
 "nbformat_minor": 5
}
